{
  "nbformat": 4,
  "nbformat_minor": 0,
  "metadata": {
    "colab": {
      "provenance": []
    },
    "kernelspec": {
      "name": "python3",
      "display_name": "Python 3"
    },
    "language_info": {
      "name": "python"
    }
  },
  "cells": [
    {
      "cell_type": "code",
      "execution_count": 2,
      "metadata": {
        "colab": {
          "base_uri": "https://localhost:8080/"
        },
        "id": "cylVjUJ-g_ht",
        "outputId": "4ae4ed58-8d7c-49a3-acdc-bd567bea3f11"
      },
      "outputs": [
        {
          "output_type": "stream",
          "name": "stdout",
          "text": [
            "121.00000000000001\n"
          ]
        }
      ],
      "source": [
        "def buy_product(price: int, tax_rate: int):\n",
        "  amount = price * (1 + tax_rate /100)\n",
        "\n",
        "  return amount\n",
        "\n",
        "print(buy_product(110, 10))\n"
      ]
    }
  ]
}