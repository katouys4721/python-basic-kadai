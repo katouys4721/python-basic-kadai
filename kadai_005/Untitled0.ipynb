{
  "nbformat": 4,
  "nbformat_minor": 0,
  "metadata": {
    "colab": {
      "provenance": []
    },
    "kernelspec": {
      "name": "python3",
      "display_name": "Python 3"
    },
    "language_info": {
      "name": "python"
    }
  },
  "cells": [
    {
      "cell_type": "code",
      "execution_count": 6,
      "metadata": {
        "colab": {
          "base_uri": "https://localhost:8080/"
        },
        "id": "OjoW7G0egdiJ",
        "outputId": "b4f45436-f7f4-482e-933b-0ff648dca4ee"
      },
      "outputs": [
        {
          "output_type": "stream",
          "name": "stdout",
          "text": [
            "上辺10cm\n",
            "下辺20cm\n",
            "高さ5cm\n",
            "公式：台形の面積＝（上辺＋下辺）×高さ÷2\n",
            "台形の面積は75.0cm²\n"
          ]
        }
      ],
      "source": [
        "upper_edge = 10\n",
        "lower_edge = 20\n",
        "height = 5\n",
        "print(f\"上辺{upper_edge}cm\")\n",
        "print(f\"下辺{lower_edge}cm\")\n",
        "print(f\"高さ{height}cm\")\n",
        "\n",
        "area_trapezoid = (upper_edge + lower_edge) * height / 2\n",
        "print(\"公式：台形の面積＝（上辺＋下辺）×高さ÷2\")\n",
        "\n",
        "print(f\"台形の面積は{area_trapezoid}cm²\")"
      ]
    }
  ]
}
