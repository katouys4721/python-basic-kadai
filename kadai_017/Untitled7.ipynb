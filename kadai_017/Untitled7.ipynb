{
  "nbformat": 4,
  "nbformat_minor": 0,
  "metadata": {
    "colab": {
      "provenance": []
    },
    "kernelspec": {
      "name": "python3",
      "display_name": "Python 3"
    },
    "language_info": {
      "name": "python"
    }
  },
  "cells": [
    {
      "cell_type": "code",
      "source": [
        "!rm /etc/localtime\n",
        "!ln -s /usr/share/zoneinfo/Asia/Tokyo /etc/localtime\n",
        "!date"
      ],
      "metadata": {
        "colab": {
          "base_uri": "https://localhost:8080/"
        },
        "id": "9kent5_wA3ao",
        "outputId": "23ce27cc-45a5-4ba6-e93d-7f82caa46fb7"
      },
      "execution_count": 1,
      "outputs": [
        {
          "output_type": "stream",
          "name": "stdout",
          "text": [
            "Fri Mar 28 01:31:28 PM JST 2025\n"
          ]
        }
      ]
    },
    {
      "cell_type": "code",
      "source": [
        "class Human:\n",
        "  def __init__(self, name, age):\n",
        "    self.name = name\n",
        "    self.age = age\n",
        "\n",
        "  def check_adult(self):\n",
        "    if(self.age >= 20):\n",
        "      print(self.name + \"は大人です。\")\n",
        "    else:\n",
        "      print(self.name + \"は大人ではありません。\")\n",
        "\n",
        "human_list = [Human(\"太郎\", 35), Human(\"二郎\", 20), Human(\"三郎\", 18), Human(\"花子\", 30)]\n",
        "\n",
        "for person in human_list:\n",
        "  person.check_adult()"
      ],
      "metadata": {
        "colab": {
          "base_uri": "https://localhost:8080/"
        },
        "id": "k16nuAv7GWca",
        "outputId": "d503466b-625a-4c8f-d72b-d91cc5ca08bf"
      },
      "execution_count": 10,
      "outputs": [
        {
          "output_type": "stream",
          "name": "stdout",
          "text": [
            "太郎は大人です。\n",
            "二郎は大人です。\n",
            "三郎は大人ではありません。\n",
            "花子は大人です。\n"
          ]
        }
      ]
    }
  ]
}